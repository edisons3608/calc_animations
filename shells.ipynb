{
 "cells": [
  {
   "cell_type": "code",
   "execution_count": 3,
   "metadata": {},
   "outputs": [],
   "source": [
    "import matplotlib.pyplot as plt\n",
    "from mpl_toolkits.mplot3d import Axes3D\n",
    "import numpy as np\n",
    "import math\n",
    "from matplotlib.patches import Circle, PathPatch"
   ]
  },
  {
   "cell_type": "code",
   "execution_count": 4,
   "metadata": {},
   "outputs": [],
   "source": [
    "\n",
    "\n",
    "plt.rcParams[\"figure.figsize\"] = [7.00, 3.50]\n",
    "plt.rcParams[\"figure.autolayout\"] = True\n",
    "\n",
    "\n",
    "def data_for_cylinder_along_z(center_x,center_y,radius,start_z,end_z):\n",
    "    z = np.linspace(start_z, end_z, 50)\n",
    "    theta = np.linspace(0, 2*np.pi, 50)\n",
    "    theta_grid, z_grid=np.meshgrid(theta, z)\n",
    "    x_grid = radius*np.cos(theta_grid) + center_x\n",
    "    y_grid = radius*np.sin(theta_grid) + center_y\n",
    "    return x_grid,y_grid,z_grid\n",
    "\n",
    "\n",
    "for i in range(1,41):\n",
    "    fig = plt.figure()\n",
    "    ax = fig.add_subplot(111,projection='3d')\n",
    "    r = 0.05\n",
    "    u, v = np.mgrid[0:2 * np.pi:30j, 0:np.pi:20j]\n",
    "    x = np.cos(u) * np.sin(v)\n",
    "    y = np.sin(u) * np.sin(v)\n",
    "    z = np.cos(v)\n",
    "    ax.plot_surface(x, y, z, cmap=plt.cm.YlGnBu_r,alpha=0.3)\n",
    "    idx = i/40\n",
    "    \n",
    "    Xc,Yc,Zc = data_for_cylinder_along_z(0,0,idx,-math.sqrt(1-idx*idx),math.sqrt(1-idx*idx))\n",
    "    ax.plot_surface(Xc, Yc, Zc, alpha=1)\n",
    "\n",
    "\n",
    "    plt.savefig(f\"assets/shells/{i}.png\")\n",
    "    plt.close()\n",
    "    "
   ]
  },
  {
   "cell_type": "code",
   "execution_count": 5,
   "metadata": {},
   "outputs": [],
   "source": [
    "from PIL import Image\n",
    "\n",
    "images = [Image.open(f\"assets/shells/{n}.png\") for n in range(1,41)]\n",
    "\n",
    "images[0].save('assets/shells.gif', save_all=True, append_images=images[1:], duration=100, loop=0)"
   ]
  },
  {
   "cell_type": "code",
   "execution_count": null,
   "metadata": {},
   "outputs": [],
   "source": []
  },
  {
   "cell_type": "code",
   "execution_count": null,
   "metadata": {},
   "outputs": [],
   "source": []
  },
  {
   "cell_type": "code",
   "execution_count": null,
   "metadata": {},
   "outputs": [],
   "source": []
  }
 ],
 "metadata": {
  "kernelspec": {
   "display_name": "ML",
   "language": "python",
   "name": "python3"
  },
  "language_info": {
   "codemirror_mode": {
    "name": "ipython",
    "version": 3
   },
   "file_extension": ".py",
   "mimetype": "text/x-python",
   "name": "python",
   "nbconvert_exporter": "python",
   "pygments_lexer": "ipython3",
   "version": "3.12.9"
  }
 },
 "nbformat": 4,
 "nbformat_minor": 2
}
