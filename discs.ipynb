{
 "cells": [
  {
   "cell_type": "code",
   "execution_count": 1,
   "metadata": {},
   "outputs": [],
   "source": [
    "import matplotlib.pyplot as plt\n",
    "from mpl_toolkits.mplot3d import Axes3D\n",
    "import numpy as np\n",
    "import math\n",
    "import time\n",
    "from matplotlib.animation import FuncAnimation\n",
    "from matplotlib.patches import Circle, PathPatch\n",
    "import mpl_toolkits.mplot3d.art3d as art3d"
   ]
  },
  {
   "cell_type": "code",
   "execution_count": 4,
   "metadata": {},
   "outputs": [],
   "source": [
    "\n",
    "\n",
    "plt.rcParams[\"figure.figsize\"] = [7.00, 3.50]\n",
    "plt.rcParams[\"figure.autolayout\"] = True\n",
    "\n",
    "\n",
    "for i in range(-20,20):\n",
    "    fig = plt.figure()\n",
    "    ax = fig.add_subplot(projection='3d')\n",
    "    r = 0.05\n",
    "    u, v = np.mgrid[0:2 * np.pi:30j, 0:np.pi:20j]\n",
    "    x = np.cos(u) * np.sin(v)\n",
    "    y = np.sin(u) * np.sin(v)\n",
    "    z = np.cos(v)\n",
    "    ax.plot_surface(x, y, z, cmap=plt.cm.YlGnBu_r,alpha=0.5)\n",
    "    idx = i/20\n",
    "    p = Circle((0, 0), math.sqrt(1-idx*idx))\n",
    "    ax.add_patch(p)\n",
    "    art3d.pathpatch_2d_to_3d(p, z=idx, zdir=\"x\")\n",
    "    \n",
    "    \n",
    "    plt.savefig(f\"assets/discs/{i}.png\")\n",
    "    plt.close()\n",
    "    "
   ]
  },
  {
   "cell_type": "code",
   "execution_count": 5,
   "metadata": {},
   "outputs": [],
   "source": [
    "from PIL import Image\n",
    "\n",
    "images = [Image.open(f\"assets/discs/{n}.png\") for n in range(-20,20)]\n",
    "\n",
    "images[0].save('assets/discs.gif', save_all=True, append_images=images[1:], duration=100, loop=0)"
   ]
  },
  {
   "cell_type": "code",
   "execution_count": null,
   "metadata": {},
   "outputs": [],
   "source": []
  },
  {
   "cell_type": "code",
   "execution_count": null,
   "metadata": {},
   "outputs": [],
   "source": []
  },
  {
   "cell_type": "code",
   "execution_count": null,
   "metadata": {},
   "outputs": [],
   "source": []
  }
 ],
 "metadata": {
  "kernelspec": {
   "display_name": "ML",
   "language": "python",
   "name": "python3"
  },
  "language_info": {
   "codemirror_mode": {
    "name": "ipython",
    "version": 3
   },
   "file_extension": ".py",
   "mimetype": "text/x-python",
   "name": "python",
   "nbconvert_exporter": "python",
   "pygments_lexer": "ipython3",
   "version": "3.12.9"
  }
 },
 "nbformat": 4,
 "nbformat_minor": 2
}
